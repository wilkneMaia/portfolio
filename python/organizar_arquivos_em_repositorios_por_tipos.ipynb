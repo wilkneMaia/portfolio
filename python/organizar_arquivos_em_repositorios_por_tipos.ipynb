{
 "cells": [
  {
   "cell_type": "markdown",
   "metadata": {},
   "source": [
    "## Organizar arquivos em repositórios por tipos\n",
    "\n",
    "Nesse projeto, vamos organizar arquivos em pastas por tipos, utilizando **Python** e a biblioteca **OS**."
   ]
  },
  {
   "cell_type": "code",
   "execution_count": 1,
   "metadata": {},
   "outputs": [],
   "source": [
    "# importar os pacotes necessários\n",
    "import os"
   ]
  },
  {
   "cell_type": "code",
   "execution_count": null,
   "metadata": {},
   "outputs": [],
   "source": [
    "cwd  = os.getcwd()\n",
    "full_list = os.listdir(cwd)\n",
    "files_list = [i for i in full_list if os.path.isfile(i) and '.py' not in i]\n",
    "\n",
    "types = list(set([i.split('.')[-1] for i in files_list]))\n",
    "for file_type in types:\n",
    "    os.mkdir(file_type)\n",
    "\n",
    "for file in files_list:\n",
    "    path_from = cwd + '/' + file\n",
    "    path_to = cwd + '/' + file.split('.')[-1] + '/' + file\n",
    "    os.replace(path_from, path_to)"
   ]
  }
 ],
 "metadata": {
  "kernelspec": {
   "display_name": "Python 3.10.2 64-bit",
   "language": "python",
   "name": "python3"
  },
  "language_info": {
   "codemirror_mode": {
    "name": "ipython",
    "version": 3
   },
   "file_extension": ".py",
   "mimetype": "text/x-python",
   "name": "python",
   "nbconvert_exporter": "python",
   "pygments_lexer": "ipython3",
   "version": "3.10.2"
  },
  "orig_nbformat": 4,
  "vscode": {
   "interpreter": {
    "hash": "aee8b7b246df8f9039afb4144a1f6fd8d2ca17a180786b69acc140d282b71a49"
   }
  }
 },
 "nbformat": 4,
 "nbformat_minor": 2
}
