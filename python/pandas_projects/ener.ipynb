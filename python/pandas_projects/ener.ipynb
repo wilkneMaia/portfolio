{
  "cells": [
    {
      "cell_type": "markdown",
      "metadata": {
        "colab_type": "text",
        "id": "view-in-github"
      },
      "source": [
        "<a href=\"https://colab.research.google.com/github/Wilkne-Maia/Portfolio/blob/main/Analisando_Dados_da_Empresa.ipynb\" target=\"_parent\"><img src=\"https://colab.research.google.com/assets/colab-badge.svg\" alt=\"Open In Colab\"/></a>"
      ]
    },
    {
      "cell_type": "markdown",
      "metadata": {
        "id": "LJT75YneiiQJ"
      },
      "source": [
        "##  Analisar uma série temporal de consumo de eletricidade: com python e pandas\n",
        "\n",
        "O objetivo deste exemplo será aplicar tarifas de energia por tempo de uso para encontrar o custo total do consumo de energia por um ano. Ou seja, em diferentes horas do dia, o preço da eletricidade varia, então a tarefa é multiplicar a eletricidade consumida em cada hora pelo preço correto para a hora em que foi consumida."
      ]
    },
    {
      "cell_type": "code",
      "execution_count": 38,
      "metadata": {
        "id": "HSVK6cHAj7hS"
      },
      "outputs": [
        {
          "data": {
            "text/plain": [
              "'1.4.3'"
            ]
          },
          "execution_count": 38,
          "metadata": {},
          "output_type": "execute_result"
        }
      ],
      "source": [
        "# importar os pacotes necessários\n",
        "import pandas as pd\n",
        "\n",
        "# verificar versão do pandas\n",
        "pd.__version__"
      ]
    },
    {
      "cell_type": "markdown",
      "metadata": {},
      "source": [
        "> Vamos ler nossos dados de um arquivo CSV que possui duas colunas: uma para data mais hora e outra para energia elétrica consumida em quilowatts-hora (kWh)"
      ]
    },
    {
      "cell_type": "code",
      "execution_count": 23,
      "metadata": {},
      "outputs": [
        {
          "data": {
            "text/html": [
              "<div>\n",
              "<style scoped>\n",
              "    .dataframe tbody tr th:only-of-type {\n",
              "        vertical-align: middle;\n",
              "    }\n",
              "\n",
              "    .dataframe tbody tr th {\n",
              "        vertical-align: top;\n",
              "    }\n",
              "\n",
              "    .dataframe thead th {\n",
              "        text-align: right;\n",
              "    }\n",
              "</style>\n",
              "<table border=\"1\" class=\"dataframe\">\n",
              "  <thead>\n",
              "    <tr style=\"text-align: right;\">\n",
              "      <th></th>\n",
              "      <th>date_time</th>\n",
              "      <th>energy_kwh</th>\n",
              "    </tr>\n",
              "  </thead>\n",
              "  <tbody>\n",
              "    <tr>\n",
              "      <th>0</th>\n",
              "      <td>1/1/13 0:00</td>\n",
              "      <td>0.586</td>\n",
              "    </tr>\n",
              "    <tr>\n",
              "      <th>1</th>\n",
              "      <td>1/1/13 1:00</td>\n",
              "      <td>0.580</td>\n",
              "    </tr>\n",
              "    <tr>\n",
              "      <th>2</th>\n",
              "      <td>1/1/13 2:00</td>\n",
              "      <td>0.572</td>\n",
              "    </tr>\n",
              "    <tr>\n",
              "      <th>3</th>\n",
              "      <td>1/1/13 3:00</td>\n",
              "      <td>0.596</td>\n",
              "    </tr>\n",
              "    <tr>\n",
              "      <th>4</th>\n",
              "      <td>1/1/13 4:00</td>\n",
              "      <td>0.592</td>\n",
              "    </tr>\n",
              "  </tbody>\n",
              "</table>\n",
              "</div>"
            ],
            "text/plain": [
              "     date_time  energy_kwh\n",
              "0  1/1/13 0:00       0.586\n",
              "1  1/1/13 1:00       0.580\n",
              "2  1/1/13 2:00       0.572\n",
              "3  1/1/13 3:00       0.596\n",
              "4  1/1/13 4:00       0.592"
            ]
          },
          "execution_count": 23,
          "metadata": {},
          "output_type": "execute_result"
        }
      ],
      "source": [
        "# Certifique-se de que `demand_profile.csv` esteja em seu diretório de trabalho atual.\n",
        "df = pd.read_csv('demand_profile.csv')\n",
        "df.head()"
      ]
    },
    {
      "cell_type": "markdown",
      "metadata": {},
      "source": [
        "> Pandas e NumPy têm um conceito de dtypes(tipos de dados). Se nenhum argumento for especificado, date_time assumirá um tipo `object`:"
      ]
    },
    {
      "cell_type": "code",
      "execution_count": 24,
      "metadata": {},
      "outputs": [
        {
          "data": {
            "text/plain": [
              "date_time      object\n",
              "energy_kwh    float64\n",
              "dtype: object"
            ]
          },
          "execution_count": 24,
          "metadata": {},
          "output_type": "execute_result"
        }
      ],
      "source": [
        "df.dtypes"
      ]
    },
    {
      "cell_type": "markdown",
      "metadata": {},
      "source": [
        "> Para trabalhar com dados de séries temporais, você desejará que a  coluna date_time seja formatada como uma matriz de objetos de data e hora. (O Pandas chama isso de Timestamp.)."
      ]
    },
    {
      "cell_type": "code",
      "execution_count": 25,
      "metadata": {},
      "outputs": [
        {
          "data": {
            "text/plain": [
              "date_time     datetime64[ns]\n",
              "energy_kwh           float64\n",
              "dtype: object"
            ]
          },
          "execution_count": 25,
          "metadata": {},
          "output_type": "execute_result"
        }
      ],
      "source": [
        "df['date_time'] = pd.to_datetime(df['date_time'])\n",
        "\n",
        "df.dtypes\n",
        "# type(df.iat[0, 0])"
      ]
    },
    {
      "cell_type": "markdown",
      "metadata": {},
      "source": [
        " > Vamos usar um decorador de temporização , que chamei de forma não original @timeit. Esse decorador imita amplamente timeit.repeat() a biblioteca padrão do Python, mas permite que você retorne o resultado da própria função e imprima seu tempo de execução médio de várias tentativas. (O Python timeit.repeat()retorna os resultados de tempo, não o resultado da função.)"
      ]
    },
    {
      "cell_type": "code",
      "execution_count": 26,
      "metadata": {},
      "outputs": [],
      "source": [
        "# função para calcular o tempo de execução de uma função\n",
        "import functools\n",
        "import gc\n",
        "import itertools\n",
        "import sys\n",
        "from timeit import default_timer as _timer\n",
        "\n",
        "def timeit(_func=None, *, repeat=3, number=1000, file=sys.stdout):\n",
        "    _repeat = functools.partial(itertools.repeat, None)\n",
        "\n",
        "    def wrap(func):\n",
        "        @functools.wraps(func)\n",
        "        def _timeit(*args, **kwargs):\n",
        "            gcold = gc.isenabled()\n",
        "            gc.disable()\n",
        "\n",
        "            try:\n",
        "                trials = []\n",
        "                for _ in _repeat(repeat):\n",
        "                    total = 0\n",
        "                    for _ in _repeat(number):\n",
        "                        start = _timer()\n",
        "                        result = func(*args, **kwargs)\n",
        "                        end = _timer()\n",
        "                        total += end - start\n",
        "                    trials.append(total)\n",
        "                best = min(trials) / number\n",
        "                print(\n",
        "                    \"Best of {} trials with {} function\"\n",
        "                    \" calls per trial:\".format(repeat, number)\n",
        "                )\n",
        "                print(\n",
        "                    \"Function `{}` ran in average\"\n",
        "                    \" of {:0.3f} seconds.\".format(func.__name__, best),\n",
        "                    end=\"\\n\\n\",\n",
        "                    file=file,\n",
        "                )\n",
        "            finally:\n",
        "                if gcold:\n",
        "                    gc.enable()\n",
        "            return result\n",
        "\n",
        "        return _timeit\n",
        "\n",
        "    if _func is None:\n",
        "        return wrap\n",
        "    else:\n",
        "        return wrap(_func)"
      ]
    },
    {
      "cell_type": "code",
      "execution_count": 27,
      "metadata": {},
      "outputs": [
        {
          "name": "stdout",
          "output_type": "stream",
          "text": [
            "Best of 3 trials with 10 function calls per trial:\n",
            "Function `convert` ran in average of 0.002 seconds.\n",
            "\n"
          ]
        }
      ],
      "source": [
        "@timeit(repeat=3, number=10)\n",
        "def convert(df, column_name):\n",
        "    return pd.to_datetime(df[column_name])\n",
        "\n",
        "# Leia novamente para que tenhamos o dtype `object` para iniciar\n",
        "df['date_time'] = convert(df, 'date_time')"
      ]
    },
    {
      "cell_type": "markdown",
      "metadata": {},
      "source": [
        "> O Pandas será muito mais rápido quanto menos precisar interpretar seus dados. Nesse caso, você verá grandes melhorias de velocidade apenas informando ao Pandas como são seus dados de data e hora, usando o parâmetro de formato."
      ]
    },
    {
      "cell_type": "code",
      "execution_count": 28,
      "metadata": {},
      "outputs": [],
      "source": [
        "@timeit(repeat=3, number=100)\n",
        "def convert_with_format(df, column_name):\n",
        "    return pd.to_datetime(df[column_name], format='%d/%m/%y %H:%M')"
      ]
    },
    {
      "cell_type": "markdown",
      "metadata": {},
      "source": [
        "> Os datetimes no CSV não estão no formato ISO 8601 : você precisaria de YYYY-MM-DD HH:MM. Se você não especificar um formato, o Pandas usará o **[dateutil](https://dateutil.readthedocs.io/en/stable/])** pacote para converter cada string em uma data."
      ]
    },
    {
      "cell_type": "markdown",
      "metadata": {},
      "source": [
        "## Looping simples sobre dados do Pandas"
      ]
    },
    {
      "cell_type": "markdown",
      "metadata": {},
      "source": [
        "> Agora que suas datas e horários estão em um formato conveniente, você está pronto para começar a calcular seus custos de eletricidade. Lembre-se de que o custo varia de acordo com a hora, portanto, você precisará aplicar condicionalmente um fator de custo a cada hora do dia. Neste exemplo, os custos de tempo de uso serão definidos da seguinte forma:\n",
        "> \n",
        "Tipo de tarifa | Centavos por kWh | Período\n",
        ":--------- | :------: | -------:\n",
        "peak_hours | 28 | 17h00 às 24h00\n",
        "shoulder_hours | 20 | 7:00 às 17:00\n",
        "off_peak_hours | 12 | 0:00 às 7:00\n"
      ]
    },
    {
      "cell_type": "markdown",
      "metadata": {},
      "source": [
        "> Se o preço fosse fixo de 28 centavos por kWh para cada hora do dia, esse cálculo poderia ser feito em uma linha.<br>\n",
        "> Resultará na criação de uma nova coluna com o custo da eletricidade para aquela hora."
      ]
    },
    {
      "cell_type": "code",
      "execution_count": 195,
      "metadata": {},
      "outputs": [
        {
          "data": {
            "text/html": [
              "<div>\n",
              "<style scoped>\n",
              "    .dataframe tbody tr th:only-of-type {\n",
              "        vertical-align: middle;\n",
              "    }\n",
              "\n",
              "    .dataframe tbody tr th {\n",
              "        vertical-align: top;\n",
              "    }\n",
              "\n",
              "    .dataframe thead th {\n",
              "        text-align: right;\n",
              "    }\n",
              "</style>\n",
              "<table border=\"1\" class=\"dataframe\">\n",
              "  <thead>\n",
              "    <tr style=\"text-align: right;\">\n",
              "      <th></th>\n",
              "      <th>date_time</th>\n",
              "      <th>energy_kwh</th>\n",
              "      <th>cost_cents</th>\n",
              "    </tr>\n",
              "  </thead>\n",
              "  <tbody>\n",
              "    <tr>\n",
              "      <th>0</th>\n",
              "      <td>2013-01-01 00:00:00</td>\n",
              "      <td>0.586</td>\n",
              "      <td>16.408</td>\n",
              "    </tr>\n",
              "    <tr>\n",
              "      <th>1</th>\n",
              "      <td>2013-01-01 01:00:00</td>\n",
              "      <td>0.580</td>\n",
              "      <td>16.240</td>\n",
              "    </tr>\n",
              "    <tr>\n",
              "      <th>2</th>\n",
              "      <td>2013-01-01 02:00:00</td>\n",
              "      <td>0.572</td>\n",
              "      <td>16.016</td>\n",
              "    </tr>\n",
              "    <tr>\n",
              "      <th>3</th>\n",
              "      <td>2013-01-01 03:00:00</td>\n",
              "      <td>0.596</td>\n",
              "      <td>16.688</td>\n",
              "    </tr>\n",
              "    <tr>\n",
              "      <th>4</th>\n",
              "      <td>2013-01-01 04:00:00</td>\n",
              "      <td>0.592</td>\n",
              "      <td>16.576</td>\n",
              "    </tr>\n",
              "  </tbody>\n",
              "</table>\n",
              "</div>"
            ],
            "text/plain": [
              "            date_time  energy_kwh  cost_cents\n",
              "0 2013-01-01 00:00:00       0.586      16.408\n",
              "1 2013-01-01 01:00:00       0.580      16.240\n",
              "2 2013-01-01 02:00:00       0.572      16.016\n",
              "3 2013-01-01 03:00:00       0.596      16.688\n",
              "4 2013-01-01 04:00:00       0.592      16.576"
            ]
          },
          "execution_count": 195,
          "metadata": {},
          "output_type": "execute_result"
        }
      ],
      "source": [
        "df['cost_cents'] = df['energy_kwh'] * 28\n",
        "\n",
        "df.head()"
      ]
    },
    {
      "cell_type": "markdown",
      "metadata": {},
      "source": [
        "## Vejamos uma abordagem de `loop`"
      ]
    },
    {
      "cell_type": "code",
      "execution_count": 13,
      "metadata": {},
      "outputs": [],
      "source": [
        "# NOTA: Não faça isso!\n",
        "# def apply_tariff(kwh,   hour):\n",
        "#     \"\"\"Calculates cost of electricity for given hour.\"\"\"    \n",
        "#     if 0 <= hour < 7:\n",
        "#         rate = 12\n",
        "#     elif 7 <= hour < 17:\n",
        "#         rate = 20\n",
        "#     elif 17 <= hour < 24:\n",
        "#         rate = 28\n",
        "#     else:\n",
        "#         raise ValueError(f'Invalid hour: {hour}')\n",
        "#     return rate * kwh"
      ]
    },
    {
      "cell_type": "code",
      "execution_count": null,
      "metadata": {},
      "outputs": [],
      "source": [
        "# NOTA: Não faça isso!\n",
        "# @timeit(repeat=3, number=100)\n",
        "# def apply_tariff_loop(df):\n",
        "#     \"\"\"Calcule os custos em loop. Modifica o `df` no local.\"\"\"\n",
        "#     energy_cost_list = []    \n",
        "#     for i in range(len(df)):\n",
        "#         # Obter eletricidade usada e hora do dia\n",
        "#         energy_used = df.iloc[i]['energy_kwh']\n",
        "#         hour = df.iloc[i]['date_time'].hour\n",
        "#         energy_cost = apply_tariff(energy_used, hour)\n",
        "#         energy_cost_list.append(energy_cost)\n",
        "#     df['cost_cents'] = energy_cost_list\n",
        "        \n",
        "# apply_tariff_loop(df)"
      ]
    },
    {
      "cell_type": "code",
      "execution_count": null,
      "metadata": {},
      "outputs": [],
      "source": [
        "# NOTA: Não faça isso!\n",
        "# @timeit(repeat=3, number=100)\n",
        "# def apply_tariff_iterrows(df):\n",
        "#     energy_cost_list = []\n",
        "#     for index, row in df.iterrows():\n",
        "#         # Obter eletricidade usada e hora do dia\n",
        "#         energy_used = row['energy_kwh']\n",
        "#         hour = row['date_time'].hour\n",
        "#         # Anexar lista de custos\n",
        "#         energy_cost = apply_tariff(energy_used, hour)\n",
        "#         energy_cost_list.append(energy_cost)\n",
        "#     df['cost_cents'] = energy_cost_list\n",
        "    \n",
        "# apply_tariff_iterrows(df)"
      ]
    },
    {
      "cell_type": "markdown",
      "metadata": {},
      "source": [
        "## Pandas `.apply()`\n",
        "\n",
        "> O método do Pandas .apply() pega funções (callables) e as aplica ao longo de um eixo de um DataFrame (todas as linhas ou todas as colunas). Neste exemplo, uma função **[lambda]()** ajudará você a passar as duas colunas de dados para apply_tariff():"
      ]
    },
    {
      "cell_type": "code",
      "execution_count": 15,
      "metadata": {},
      "outputs": [
        {
          "name": "stdout",
          "output_type": "stream",
          "text": [
            "Best of 3 trials with 100 function calls per trial:\n",
            "Function `apply_tariff_withapply` ran in average of 0.042 seconds.\n",
            "\n"
          ]
        }
      ],
      "source": [
        "@timeit(repeat=3, number=100)\n",
        "def apply_tariff_withapply(df):\n",
        "    df['cost_cents'] = df.apply(\n",
        "        lambda row: apply_tariff(\n",
        "            kwh=row['energy_kwh'],\n",
        "            hour=row['date_time'].hour\n",
        "        ),\n",
        "        axis=1\n",
        "    )\n",
        "apply_tariff_withapply(df)"
      ]
    },
    {
      "cell_type": "markdown",
      "metadata": {},
      "source": [
        "## Selecionando dados com `.isin()`\n",
        "\n",
        "> Você verá como selecionar linhas com o `.isin()` método do Pandas e então aplicar a tarifa adequada em uma operação vetorizada. Antes de fazer isso, as coisas ficarão um pouco mais convenientes se você definir a date_timecoluna como o índice do DataFrame:"
      ]
    },
    {
      "cell_type": "code",
      "execution_count": 29,
      "metadata": {},
      "outputs": [],
      "source": [
        "df.set_index('date_time', inplace=True)\n",
        "\n",
        "@timeit(repeat=3, number=100)\n",
        "def apply_tariff_isin(df):\n",
        "    # Define hour range Boolean arrays\n",
        "    peak_hours = df.index.hour.isin(range(17, 24))\n",
        "    shoulder_hours = df.index.hour.isin(range(7, 17))\n",
        "    off_peak_hours = df.index.hour.isin(range(0, 7))\n",
        "\n",
        "    # Apply tariffs to hour ranges\n",
        "    df.loc[peak_hours, 'cost_cents'] = df.loc[peak_hours, 'energy_kwh'] * 28\n",
        "    df.loc[shoulder_hours,'cost_cents'] = df.loc[shoulder_hours, 'energy_kwh'] * 20\n",
        "    df.loc[off_peak_hours,'cost_cents'] = df.loc[off_peak_hours, 'energy_kwh'] * 12"
      ]
    },
    {
      "cell_type": "markdown",
      "metadata": {},
      "source": [
        "> Vamos ver como isso se compara:"
      ]
    },
    {
      "cell_type": "code",
      "execution_count": 30,
      "metadata": {},
      "outputs": [
        {
          "name": "stdout",
          "output_type": "stream",
          "text": [
            "Best of 3 trials with 100 function calls per trial:\n",
            "Function `apply_tariff_isin` ran in average of 0.001 seconds.\n",
            "\n"
          ]
        }
      ],
      "source": [
        "apply_tariff_isin(df)"
      ]
    },
    {
      "cell_type": "markdown",
      "metadata": {},
      "source": [
        "> Para entender o que está acontecendo neste código, você precisa saber que o método `.isin()` está retornando uma matriz de valores booleanos que se parece com isso:\n",
        ">\n",
        ">>~~~python\n",
        ">>[False, False, False, ..., True, True, True]\n",
        ">>~~~"
      ]
    },
    {
      "cell_type": "markdown",
      "metadata": {},
      "source": [
        "> Esses valores identificam quais índices DataFrame (datetimes) estão dentro do intervalo de horas especificado. Então, quando você passa essas matrizes booleanas para o .locindexador do DataFrame, obtém uma fatia do DataFrame que inclui apenas as linhas que correspondem a essas horas. Depois disso, é só multiplicar a fatia pela tarifa adequada, que é uma operação vetorizada veloz."
      ]
    },
    {
      "cell_type": "markdown",
      "metadata": {},
      "source": [
        "## Podemos fazer melhor?\n",
        "\n",
        "> você pode fazer as coisas ainda mais programaticamente com a função `pd.cut()` do Pandas neste caso:"
      ]
    },
    {
      "cell_type": "code",
      "execution_count": 31,
      "metadata": {},
      "outputs": [],
      "source": [
        "@timeit(repeat=3, number=100)\n",
        "def apply_tariff_cut(df):\n",
        "    cents_per_kwh = pd.cut(x=df.index.hour,\n",
        "                           bins=[0, 7, 17, 24],\n",
        "                           include_lowest=True,\n",
        "                           labels=[12, 20, 28]).astype(int)\n",
        "    df['cost_cents'] = cents_per_kwh * df['energy_kwh']\n"
      ]
    },
    {
      "cell_type": "markdown",
      "metadata": {},
      "source": [
        "> O `pd.cut()` está aplicando um array de rótulos (nossos custos) de acordo com qual bin cada hora pertence. Observe que o parâmetro `include_lowest`  indica se o primeiro intervalo deve ser inclusivo à esquerda ou não. (Você deseja incluir time=0 em um grupo.)"
      ]
    },
    {
      "cell_type": "code",
      "execution_count": 32,
      "metadata": {},
      "outputs": [
        {
          "name": "stdout",
          "output_type": "stream",
          "text": [
            "Best of 3 trials with 100 function calls per trial:\n",
            "Function `apply_tariff_cut` ran in average of 0.001 seconds.\n",
            "\n"
          ]
        }
      ],
      "source": [
        "apply_tariff_cut(df)"
      ]
    },
    {
      "cell_type": "markdown",
      "metadata": {},
      "source": [
        "## Não se esqueça do NumPy!\n",
        "\n",
        "> Neste próximo caso, você usará a função `digitize()` do NumPy. É semelhante ao Pandas, `cut()` pois os dados serão agrupados, mas desta vez serão representados por uma matriz de índices representando a qual bin cada hora pertence. Esses índices são então aplicados a uma matriz de preços:"
      ]
    },
    {
      "cell_type": "code",
      "execution_count": 39,
      "metadata": {},
      "outputs": [],
      "source": [
        "#  importar numpy\n",
        "import numpy as np"
      ]
    },
    {
      "cell_type": "code",
      "execution_count": 40,
      "metadata": {},
      "outputs": [],
      "source": [
        "@timeit(repeat=3, number=100)\n",
        "def apply_tariff_digitize(df):\n",
        "    prices = np.array([12, 20, 28])\n",
        "    bins = np.digitize(df.index.hour.values, bins=[7, 17, 24])\n",
        "    df['cost_cents'] = prices[bins] * df['energy_kwh'].values\n"
      ]
    },
    {
      "cell_type": "code",
      "execution_count": 41,
      "metadata": {},
      "outputs": [
        {
          "name": "stdout",
          "output_type": "stream",
          "text": [
            "Best of 3 trials with 100 function calls per trial:\n",
            "Function `apply_tariff_digitize` ran in average of 0.000 seconds.\n",
            "\n"
          ]
        }
      ],
      "source": [
        "apply_tariff_digitize(df)"
      ]
    },
    {
      "cell_type": "markdown",
      "metadata": {},
      "source": [
        "> Aqui está a “ordem de precedência” acima em ação, com cada função que você criou aqui:\n",
        "> \n",
        "Função                  | Tempo de execução (segundos)\n",
        ":---------                | :------ \n",
        "apply_tariff_loop()       | 3.152\n",
        "apply_tariff_loop()       | 0.713\n",
        "apply_tariff_withapply()  | 0.272\n",
        "apply_tariff_isin()       | 0.010\n",
        "apply_tariff_cut()        | 0.003\n",
        "apply_tariff_digitize()   | 0.002\n"
      ]
    },
    {
      "cell_type": "markdown",
      "metadata": {},
      "source": [
        "## Conclusões"
      ]
    },
    {
      "cell_type": "markdown",
      "metadata": {},
      "source": [
        "1. Use operações vetorizadas: métodos e funções Pandas sem `loops for`.\n",
        "2. Use o método `.apply()` com um callable.\n",
        "3. Use `.itertuples()`: itere sobre as linhas do DataFrame a partir do módulo `namedtuples` do Python `.collections`.\n",
        "4. Use `.iterrows()`: itere sobre as linhas do DataFrame como `pd.Seriespares` (index, ). Embora uma série Pandas seja uma estrutura de dados flexível, pode ser caro construir cada linha em uma série e depois acessá-la.\n",
        "5. Use “elemento por elemento” para loops, atualizando cada célula ou linha uma de cada vez com `df.locou`, `df.iloc`. (Ou .at/ .iatpara acesso escalar rápido.)."
      ]
    },
    {
      "cell_type": "markdown",
      "metadata": {},
      "source": [
        "Os exemplos que você explorou aqui são bastante diretos, mas ilustram como a aplicação adequada dos recursos do Pandas pode fazer grandes melhorias no tempo de execução e na legibilidade do código para inicializar. Aqui estão algumas regras básicas que você pode aplicar na próxima vez que estiver trabalhando com grandes conjuntos de dados no Pandas:\n",
        "\n",
        "* Tente usar operações vetorizadas sempre que possível, em vez de abordar problemas com a mentalidade `for x in df...`. Se o seu código abriga muitos `loops for`, ele pode ser mais adequado para trabalhar com estruturas de dados nativas do Python, porque o Pandas vem com muita sobrecarga.\n",
        "\n",
        "* Se você tiver operações mais complexas em que a vetorização é simplesmente impossível ou muito difícil de trabalhar com eficiência, use o método `.apply()`.\n",
        "\n",
        "* Se você precisar fazer um `loop` sobre sua matriz (o que acontece), use `.iterrows()` ou `.itertuples()` para melhorar a velocidade e a sintaxe.\n",
        "\n",
        "* O Pandas tem muitas opções e quase sempre há várias maneiras de ir de A a B. Esteja atento a isso, compare o desempenho de diferentes rotas e escolha a que funciona melhor no contexto do seu projeto.\n",
        "\n",
        "* Depois de criar um script de limpeza de dados, evite o reprocessamento armazenando seus resultados intermediários com o `HDFStore`.\n",
        "\n",
        "* A integração do `NumPy` nas operações do Pandas geralmente pode melhorar a velocidade e simplificar a sintaxe."
      ]
    },
    {
      "cell_type": "markdown",
      "metadata": {},
      "source": [
        "* **[lambReal Pythonda](https://realpython.com/fast-flexible-pandas/#conclusions)**\n",
        "* **[Funão timeit()](https://github.com/realpython/materials/blob/master/pandas-fast-flexible-intuitive/tutorial/timer.py)**\n",
        "* **[GitHub](https://github.com/realpython/materials/tree/master/pandas-fast-flexible-intuitive)**"
      ]
    }
  ],
  "metadata": {
    "colab": {
      "authorship_tag": "ABX9TyMnMqbUg0fXStCaphbsMxg5",
      "collapsed_sections": [],
      "include_colab_link": true,
      "mount_file_id": "1-0xiY_WjAPEMWVIMUj7uVv742BMe1cPn",
      "name": "Analisando Dados da Empresa.ipynb",
      "provenance": []
    },
    "kernelspec": {
      "display_name": "Python 3.10.2 64-bit",
      "language": "python",
      "name": "python3"
    },
    "language_info": {
      "codemirror_mode": {
        "name": "ipython",
        "version": 3
      },
      "file_extension": ".py",
      "mimetype": "text/x-python",
      "name": "python",
      "nbconvert_exporter": "python",
      "pygments_lexer": "ipython3",
      "version": "3.10.2"
    },
    "vscode": {
      "interpreter": {
        "hash": "aee8b7b246df8f9039afb4144a1f6fd8d2ca17a180786b69acc140d282b71a49"
      }
    }
  },
  "nbformat": 4,
  "nbformat_minor": 0
}
